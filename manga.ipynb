{
 "cells": [
  {
   "cell_type": "code",
   "execution_count": 123,
   "metadata": {},
   "outputs": [],
   "source": [
    "import requests\n",
    "import re\n",
    "import time\n",
    "from datetime import datetime\n",
    "from bs4 import BeautifulSoup\n",
    "import time\n",
    "import schedule\n",
    "URL = 'https://www.viz.com/shonenjump/chapters/kaiju-no-8?locale=en'\n",
    "\n",
    "headers = {\n",
    "    'User-Agent': 'Mozilla/5.0 (Windows NT 10.0; Win64; x64) AppleWebKit/537.36 (KHTML, like Gecko) Chrome/88.0.4324.190 Safari/537.36',\n",
    "}\n",
    "\n",
    "page = requests.get(URL)\n",
    "\n",
    "soup = BeautifulSoup(page.content, \"html.parser\")\n"
   ]
  },
  {
   "cell_type": "code",
   "execution_count": 124,
   "metadata": {},
   "outputs": [
    {
     "name": "stdout",
     "output_type": "stream",
     "text": [
      "July 21, 2022\n"
     ]
    }
   ],
   "source": [
    "\n",
    "release = soup.find(\"td\", class_=\"pad-y-0 pad-r-0 pad-r-rg--sm\")\n",
    "\n",
    "print(release.get_text())\n",
    "\n",
    "now = datetime.now()\n"
   ]
  },
  {
   "cell_type": "code",
   "execution_count": 143,
   "metadata": {},
   "outputs": [],
   "source": [
    "import subprocess\n",
    "release = soup.find(\"td\", class_=\"pad-y-0 pad-r-0 pad-r-rg--sm\")\n",
    "\n",
    "\n",
    "def manga_check(URL):\n",
    "    page = requests.get(URL)\n",
    "    soup = BeautifulSoup(page.content, \"html.parser\")\n",
    "    release = soup.find(\"td\", class_=\"pad-y-0 pad-r-0 pad-r-rg--sm\")\n",
    "\n",
    "\n",
    "# alert\n",
    "CMD = '''\n",
    "on run argv\n",
    "  display notification (item 2 of argv) with title (item 1 of argv)\n",
    "end run\n",
    "'''\n",
    "\n",
    "\n",
    "def notify(title, text):\n",
    "    subprocess.call(['osascript', '-e', CMD, title, text])\n",
    "\n",
    "\n",
    "if release == now:  # check if manga has released\n",
    "    notify(\"Alert\", \"New chapter available\")\n",
    "else:\n",
    "    notify(\"alert\", \"Not yet available\")\n"
   ]
  },
  {
   "cell_type": "code",
   "execution_count": 162,
   "metadata": {},
   "outputs": [],
   "source": [
    "import subprocess\n",
    "# alert\n",
    "CMD = '''\n",
    "on run argv\n",
    "  display notification (item 2 of argv) with title (item 1 of argv)\n",
    "end run\n",
    "'''\n",
    "def notify(title, text):\n",
    "        subprocess.call(['osascript', '-e', CMD, title, text])\n",
    "\n",
    "def manga_chapter_listener():\n",
    "\n",
    "    if release == now:  # check if manga has released\n",
    "            notify(\"Alert\", \"New chapter available\")\n",
    "    else:\n",
    "            notify(\"alert\", \"Not yet available\")\n"
   ]
  },
  {
   "cell_type": "code",
   "execution_count": 145,
   "metadata": {},
   "outputs": [
    {
     "ename": "KeyboardInterrupt",
     "evalue": "",
     "output_type": "error",
     "traceback": [
      "\u001b[0;31m---------------------------------------------------------------------------\u001b[0m",
      "\u001b[0;31mKeyboardInterrupt\u001b[0m                         Traceback (most recent call last)",
      "\u001b[1;32m/Users/ashfi/code/new_python/manga_notif/manga.ipynb Cell 5\u001b[0m in \u001b[0;36m<cell line: 1>\u001b[0;34m()\u001b[0m\n\u001b[1;32m      <a href='vscode-notebook-cell:/Users/ashfi/code/new_python/manga_notif/manga.ipynb#ch0000005?line=4'>5</a>\u001b[0m \u001b[39mwhile\u001b[39;00m \u001b[39mTrue\u001b[39;00m:  \u001b[39m# loops and runs the scheduled job indefinitely\u001b[39;00m\n\u001b[1;32m      <a href='vscode-notebook-cell:/Users/ashfi/code/new_python/manga_notif/manga.ipynb#ch0000005?line=5'>6</a>\u001b[0m     schedule\u001b[39m.\u001b[39mrun_pending()\n\u001b[0;32m----> <a href='vscode-notebook-cell:/Users/ashfi/code/new_python/manga_notif/manga.ipynb#ch0000005?line=6'>7</a>\u001b[0m     time\u001b[39m.\u001b[39;49msleep(\u001b[39m1\u001b[39;49m)\n",
      "\u001b[0;31mKeyboardInterrupt\u001b[0m: "
     ]
    }
   ],
   "source": [
    "if __name__ == \"__main__\":\n",
    "    # sets the function to run once per hour\n",
    "    schedule.every().hour.do(manga_chapter_listener)\n",
    "\n",
    "    while True:  # loops and runs the scheduled job indefinitely\n",
    "        schedule.run_pending()\n",
    "        time.sleep(1)\n"
   ]
  }
 ],
 "metadata": {
  "kernelspec": {
   "display_name": "Python 3.9.13 ('manga-notif-K7X0kTCP-py3.9')",
   "language": "python",
   "name": "python3"
  },
  "language_info": {
   "codemirror_mode": {
    "name": "ipython",
    "version": 3
   },
   "file_extension": ".py",
   "mimetype": "text/x-python",
   "name": "python",
   "nbconvert_exporter": "python",
   "pygments_lexer": "ipython3",
   "version": "3.9.13"
  },
  "orig_nbformat": 4,
  "vscode": {
   "interpreter": {
    "hash": "f7d57f0d845b3e08f85b65264a7e6f9c5783a442d2602e54e7a8a72e7aed3c72"
   }
  }
 },
 "nbformat": 4,
 "nbformat_minor": 2
}
